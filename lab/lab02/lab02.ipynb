{
 "cells": [
  {
   "cell_type": "markdown",
   "metadata": {},
   "source": [
    "# Lab 2: Multiple Hypothesis Testing\n",
    "Welcome to the second DS102 lab! \n",
    "\n",
    "The goals of this lab are to get familiar with multiple hypothesis testing scenarios, as well as to investigate several procedures for controlling the number of false discoveries.\n",
    "\n",
    "The code you need to write is commented out with a message \"TODO: fill in\". There is additional documentation for each part as you go along.\n",
    "\n",
    "\n",
    "## Course Policies\n",
    "\n",
    "**Collaboration Policy**\n",
    "\n",
    "Data science is a collaborative activity. While you may talk with others about the labs, we ask that you **write your solutions individually**. If you do discuss the assignments with others please **include their names** in the cell below.\n",
    "\n",
    "**Submission**: to submit this assignment, rerun the notebook from scratch (by selecting Kernel > Restart & Run all), and then print as a pdf (File > download as > pdf) and submit it to Gradescope.\n",
    "\n",
    "\n",
    "**This assignment should be completed and submitted before Thursday February 06, 2020 at 11:59 PM.**"
   ]
  },
  {
   "cell_type": "markdown",
   "metadata": {},
   "source": [
    "# Collaborators\n",
    "Write the names of your collaborators in this cell."
   ]
  },
  {
   "cell_type": "markdown",
   "metadata": {},
   "source": [
    "# Setup\n",
    "Let's begin by importing the libraries we will use. You can find the documentation for the libraries here:\n",
    "* matplotlib: https://matplotlib.org/3.1.1/contents.html\n",
    "* numpy: https://docs.scipy.org/doc/\n",
    "* pandas: https://pandas.pydata.org/pandas-docs/stable/\n",
    "* seaborn: https://seaborn.pydata.org/"
   ]
  },
  {
   "cell_type": "code",
   "execution_count": 2,
   "metadata": {},
   "outputs": [],
   "source": [
    "import matplotlib.pyplot as plt\n",
    "import numpy as np\n",
    "import pandas as pd\n",
    "import seaborn as sns\n",
    "import scipy.stats\n",
    "%matplotlib inline"
   ]
  },
  {
   "cell_type": "markdown",
   "metadata": {},
   "source": [
    "# 1) Distribution of p-values under the null and alternative hypotheses\n",
    "\n",
    "The first part of this assignment looks at the distribution of p-values when draws are from the null hypothesis and when draws are from the alternative hypothesis.\n",
    "\n",
    "We will consider draws from the null distribution:\n",
    "$$ D_0: \\mathcal{N}(0,1)$$\n",
    "as well as from the alternative distribution:\n",
    "$$ D_1: \\mathcal{N}(2,1)$$\n",
    "\n",
    "First, we will draw 1000 instances from the null distribution, and investigate the distribution of p-values that results from a $z$-test on these scores. Then, in part b, we will repeat the same procedure, but for data drawn from the alternative distribution. In part c we will summarize our findings.\n",
    "\n",
    "We will use p-values from a one-sided test, such that the p-value of an observed value $x_i$ is the probability that a random value $x'$ drawn from $D_0$ has a value greater than or equal to $x_i$:\n",
    "$$ P_{x' \\sim D_0}(x' \\geq x_i)$$\n",
    "\n",
    "The following function will calculate the p-values for you when you provide the mean and standard deviation of the null distribution. All you need to do is run the cell to instantiate it."
   ]
  },
  {
   "cell_type": "code",
   "execution_count": 4,
   "metadata": {},
   "outputs": [],
   "source": [
    "# This function is written written for you, we'll use one-sided hypothesis tests\n",
    "def calculate_p_values(x, mean_0, stdev_0):\n",
    "    \"\"\"\n",
    "    Computes the one-sided p-value for the null and alternative distributions defined in the cell above.\n",
    "    \n",
    "    Inputs:\n",
    "    mean_0: mean of the null (Gaussian) distribution\n",
    "    stdev_0: standard deviation of the null (Gaussian) distribution\n",
    "    \"\"\"\n",
    "    # for a one sided test, with h_1: mu > mean_0\n",
    "    z_scores = (x - mean_0)/stdev_0\n",
    "    return 1 - scipy.stats.norm.cdf(z_scores)\n"
   ]
  },
  {
   "cell_type": "markdown",
   "metadata": {},
   "source": [
    "## 1a) Plot the distribution of p-values for 1000 random draws that actually come from the null distribution: \n",
    " $$ x_i \\sim \\mathcal{N}(0, 1) $$"
   ]
  },
  {
   "cell_type": "code",
   "execution_count": 5,
   "metadata": {},
   "outputs": [
    {
     "data": {
      "image/png": "[encoded data removed]",
      "text/plain": [
       "<Figure size 432x288 with 1 Axes>"
      ]
     },
     "metadata": {
      "needs_background": "light"
     },
     "output_type": "display_data"
    }
   ],
   "source": [
    "# Note: no TODOs here, just run the cell and understand the output.\n",
    "# generate n draws from the normal distribution with mean mu_0 and variance sigma_0 = 1\n",
    "mu_a = 0\n",
    "sigma_a = 1\n",
    "n = 1000\n",
    "\n",
    "# define the random state to set the seed for consistency\n",
    "# use rs like you would np.random\n",
    "rs = np.random.RandomState(0)\n",
    "\n",
    "# x_a is an n-dimensional vector with each draw equal to x_i defined in the cell above.\n",
    "x_a = sigma_a * rs.randn(n) + mu_a\n",
    "\n",
    "p_values = calculate_p_values(x_a, mean_0=mu_a, stdev_0 = sigma_a)\n",
    "\n",
    "# plot the distribution of p-values for each draw\n",
    "sns.distplot(p_values, kde=False)\n",
    "\n",
    "plt.xlabel(\"p-value\")\n",
    "plt.ylabel(\"scaled frequency\")\n",
    "plt.title(\"Distribution of p-values for data drawn from the null distribution\");"
   ]
  },
  {
   "cell_type": "markdown",
   "metadata": {},
   "source": [
    "## 1b) Plot the distribution of p-values for 1000 random draws that actually come from the alternative distribution:\n",
    " $$ x_i \\sim \\mathcal{N}(2, 1) $$"
   ]
  },
  {
   "cell_type": "code",
   "execution_count": 6,
   "metadata": {},
   "outputs": [
    {
     "data": {
      "image/png": "[encoded data removed]",
      "text/plain": [
       "<Figure size 432x288 with 1 Axes>"
      ]
     },
     "metadata": {
      "needs_background": "light"
     },
     "output_type": "display_data"
    }
   ],
   "source": [
    "# Note: no TODOs here, just run the cell and understand the output.\n",
    "# draw for a different distribution\n",
    "mu_b = 2\n",
    "sigma_b = 1\n",
    "n = 1000\n",
    "rs = np.random.RandomState(0)\n",
    "\n",
    "# x_b in an n-dimensional vector \n",
    "x_b = sigma_b * rs.randn(n) + mu_b\n",
    "\n",
    "p_values_b = calculate_p_values(x_b, mean_0=mu_a, stdev_0 = sigma_a)\n",
    "\n",
    "# plot the distribution of p-values for each draw\n",
    "sns.distplot(p_values_b, kde=False)\n",
    "plt.xlabel(\"p-value\")\n",
    "plt.ylabel(\"scaled frequency\")\n",
    "plt.title(\"Distribution of p-values for data drawn from the alternative distribution\");"
   ]
  },
  {
   "cell_type": "markdown",
   "metadata": {},
   "source": [
    "## 1c) What do you notice?"
   ]
  },
  {
   "cell_type": "markdown",
   "metadata": {},
   "source": [
    "TODO: fill in (<=2 sentences) of your observations. "
   ]
  },
  {
   "cell_type": "markdown",
   "metadata": {},
   "source": [
    "Note that in the decision-making setting, all we see is the combined distribution for draws from (0) and from (1), but not their designated labels.\n",
    "\n",
    "In what follows we will look at different methods for trying to match instances from (1) to declared \"discoveries\" using the p-values. As the histogram of p-values above shows, there will in general be mistakes. We would like to specifically control the number of false discoveries reported."
   ]
  },
  {
   "cell_type": "markdown",
   "metadata": {},
   "source": [
    "# 2) Procedures to control false discovery\n",
    "\n",
    "Now, we are going to imagine that we have a bunch of draws (each was either from the null distribution or the alternative distribution). We want to predict whether each draw was generated from $D_0$ or $D_1$ by looking at the p-value of each draw. Our goal is to control the probability of false discoveries in this decision-making process for multiple hypothesis testing.\n",
    "\n",
    "We will implement three methods for making discoveries:\n",
    "    1. Naive thresholding (ignoring that multiple testing is happening)\n",
    "    2. Using Bonferroni correction to account for multiple testing\n",
    "    3. The Benjamini-Hochberg procedure for multiple testing\n",
    "    \n",
    "    \n",
    "For each method, we will assess the decisions made on a simulated data set. "
   ]
  },
  {
   "cell_type": "code",
   "execution_count": 7,
   "metadata": {},
   "outputs": [
    {
     "data": {
      "image/png": "[encoded data removed]",
      "text/plain": [
       "<Figure size 432x288 with 1 Axes>"
      ]
     },
     "metadata": {
      "needs_background": "light"
     },
     "output_type": "display_data"
    }
   ],
   "source": [
    "# NOTE: you just need to run this cell to instantiate variables; don't change this code.\n",
    "\n",
    "rs = np.random.RandomState(0)\n",
    "n = 1000\n",
    "\n",
    "# roughly 80% of the data comes from the null distribution\n",
    "# true_values is an n-dimensional array of indicators, where \"1\" means that x is from the alternative \n",
    "true_values = rs.binomial(1, 0.2, 1000)\n",
    "\n",
    "# null distribution is N(0, 1) and alternative distribution is N(2, 1)\n",
    "x_obs = rs.randn(n) + 2 * true_values\n",
    "\n",
    "sns.distplot(x_obs[np.where(true_values == 0)],  label=\"draws from null (0) distribution\", kde=False)\n",
    "sns.distplot(x_obs[np.where(true_values == 1)],  label=\"daws from alt. (1) distribution\", kde=False)\n",
    "\n",
    "plt.xlabel(\"x\")\n",
    "plt.ylabel(\"frequency\")\n",
    "plt.legend(bbox_to_anchor=(1,1));"
   ]
  },
  {
   "cell_type": "code",
   "execution_count": 8,
   "metadata": {},
   "outputs": [
    {
     "data": {
      "image/png": "[encoded data removed]",
      "text/plain": [
       "<Figure size 432x288 with 1 Axes>"
      ]
     },
     "metadata": {
      "needs_background": "light"
     },
     "output_type": "display_data"
    }
   ],
   "source": [
    "# NOTE: you just need to run this cell and understand what it does; no code to modify or write here. \n",
    "# set alpha \n",
    "alpha = 0.05\n",
    "\n",
    "# calculate the p-values for each individual hypothesis\n",
    "p_values = calculate_p_values(x_obs, mean_0=0, stdev_0=1)\n",
    "\n",
    "bins = np.linspace(0,1,num=20)\n",
    "sns.distplot(p_values[np.where(true_values == 0)],  label=\"draws from null (0) distribution\", kde=False, bins=bins)\n",
    "sns.distplot(p_values[np.where(true_values == 1)],  label=\"daws from alt. (1) distribution\", kde=False,bins=bins)\n",
    "plt.legend(bbox_to_anchor=(1,1))\n",
    "plt.xlabel(\"p-value\")\n",
    "plt.ylabel(\"frequency\");"
   ]
  },
  {
   "cell_type": "markdown",
   "metadata": {},
   "source": [
    "## 2a) Fill in the following functions regarding confusion matrices.\n",
    "\n",
    "These functions will be important for reporting your results in a standardized way; later code assumes that you have implemented them so start here."
   ]
  },
  {
   "cell_type": "code",
   "execution_count": null,
   "metadata": {},
   "outputs": [],
   "source": [
    "def report_results(predicted_discoveries, truth):\n",
    "    \"\"\"\n",
    "    Produces a dictionary with counts for the true positives, true negatives,\n",
    "    false negatives, and false positives from the input `predicted_discoveries`\n",
    "    and `truth` arrays.\n",
    "    \n",
    "    Args:\n",
    "      predicted discoveries: n-dimensional array of 0/1 values where 1 indicates a \"discovery\".\n",
    "      truth: n-dimensional array of 0/1 values where 1 indicates a draw from the alternative.\n",
    "    \n",
    "    Returns: a dictionary of TN, TP, FN, and FP counts.\n",
    "    \"\"\"   \n",
    "    \n",
    "    # populate the following dictionary with counts (NOT rates)\n",
    "    # TODO: fill in each of these counts\n",
    "    TP_count = # TODO: fill in\n",
    "    TN_count = # TODO: fill in\n",
    "    FP_count = # TODO: fill in\n",
    "    FN_count = # TODO: fill in\n",
    "    \n",
    "    results_dictionary = {\"TN_count\": TN_count,\n",
    "                          \"TP_count\": TP_count,\n",
    "                          \"FN_count\": FN_count,\n",
    "                          \"FP_count\": FP_count,\n",
    "                         }\n",
    "    \n",
    "    # this function is defined for you below\n",
    "    print_confusion_matrix(results_dictionary)\n",
    "    return results_dictionary\n",
    "\n",
    "def print_false_discovery_fraction(results_dictionary):\n",
    "    total_predicted_discoveries = # TODO: fill in\n",
    "    false_predicted_discoveries = # TODO: fill in\n",
    "    \n",
    "    # TODO: fill in - compute the false discovery fraction from the `results` dictionary\n",
    "    false_discovery_frac = # TODO: fill in\n",
    "    \n",
    "    print(\"total discoveries: {0}\".format(total_predicted_discoveries))\n",
    "    print(\"fraction of discoveries which were actually false: {0:.3f}\".format(false_discovery_frac))\n",
    "    return total_predicted_discoveries, false_discovery_frac\n",
    "\n",
    "def print_confusion_matrix(res_dict):\n",
    "    # This is a helper function to print the confusion matrix. You don't need to modify this code.\n",
    "    results_df = pd.DataFrame(data = {\"Decision = 0\": [res_dict['TN_count'], res_dict['FN_count']], \n",
    "                                      \"Decision = 1\":  [res_dict['FP_count'], res_dict['TP_count']]},\n",
    "                             index=[\"Truth = 0\", \"Truth = 1\"])\n",
    "    print(results_df)\n"
   ]
  },
  {
   "cell_type": "markdown",
   "metadata": {},
   "source": [
    "## 2b) Naive thresholding\n",
    "Here we will investigate the result of using the threshold $\\alpha = 0.05$ to test each hypothesis independently, ignoring that we are in a multiple testing scenario. \n",
    "\n",
    "Fill in the code for the function below to test each hypothesis at significance level $\\alpha$."
   ]
  },
  {
   "cell_type": "code",
   "execution_count": null,
   "metadata": {},
   "outputs": [],
   "source": [
    "# TODO: calculate decisions based on thresholding\n",
    "def naive_alpha_threshold(p_values, alpha):\n",
    "    \"\"\"\n",
    "    Returns decisions on p-values using naive (uncorrected) thresholding.\n",
    "    \n",
    "    Inputs:\n",
    "        p_values: array of p-values\n",
    "        alpha: threshold (significance level)\n",
    "    \n",
    "    Returns:\n",
    "        decisions: binary array of same length as p-values, where `decisions[i]` is 1\n",
    "        if `p_values[i]` is deemed significant at level `alpha`, and 0 otherwize\n",
    "    \"\"\"\n",
    "    decisions = # TODO: fill in\n",
    "    return decisions"
   ]
  },
  {
   "cell_type": "code",
   "execution_count": null,
   "metadata": {},
   "outputs": [],
   "source": [
    "# Once you've filled in `naive_alpha_threshold`, run this cell to print the results. \n",
    "naive_decisions = naive_alpha_threshold(p_values, alpha)\n",
    "\n",
    "results = report_results(naive_decisions,true_values)\n",
    "print()\n",
    "print_false_discovery_fraction(results)\n"
   ]
  },
  {
   "cell_type": "markdown",
   "metadata": {},
   "source": [
    "## 2c) Bonferroni Correction\n",
    "Here we will investigate the result of using Bonferroni-corrected p-values to declare discoveries.\n",
    "First, implement the Bonfreroni procedure in the function below. \n",
    "\n",
    "Recall that for testing $n$ hypotheses with family-wise error rate (FWER) $\\leq \\alpha$, the resulting procedure is to test each hypothesis with significance $\\frac{\\alpha}{n}$."
   ]
  },
  {
   "cell_type": "code",
   "execution_count": null,
   "metadata": {},
   "outputs": [],
   "source": [
    "# TODO: calculate the decisions based on the bonferroni correction procedure.\n",
    "def bonferroni(p_values, alpha_total):\n",
    "    \"\"\"\n",
    "    Returns decisions on p-values using the Bonferroni correction.\n",
    "    \n",
    "    Inputs:\n",
    "        p_values: array of p-values\n",
    "        alpha_total: desired family-wise error rate (FWER = P(at least one false discovery))\n",
    "    \n",
    "    Returns:\n",
    "        decisions: binary array of same length as p-values, where `decisions[i]` is 1\n",
    "        if `p_values[i]` is deemed significant, and 0 otherwise\n",
    "    \"\"\"\n",
    "    decisions = # TODO: fill in\n",
    "    \n",
    "    return decisions"
   ]
  },
  {
   "cell_type": "code",
   "execution_count": null,
   "metadata": {},
   "outputs": [],
   "source": [
    "# Once you've filled in `bonferroni`, run this cell to print the results. \n",
    "bonferroni_decisions = bonferroni(p_values, alpha)\n",
    "\n",
    "results = report_results(bonferroni_decisions,true_values)\n",
    "print()\n",
    "print_false_discovery_fraction(results)\n"
   ]
  },
  {
   "cell_type": "markdown",
   "metadata": {},
   "source": [
    "## 2d) Benjamini-Hochberg\n",
    "Now we will investigate the result of implementing Benjamini-Hochberg procedure for multiple hypothesis testing.\n",
    "First, implement the Benjamini-Hochberg procedure in the function below. \n",
    "\n",
    "Recall that for testing $n$ hypotheses with false discovery rate (FDR) $\\leq \\alpha$, the resulting procedure is to find the largest $k$ such that the $k^{th}$-largest of the $n$ p-values is less than or equal to $k \\frac{\\alpha}{n}$:\n",
    "$$ P_{(k)} \\leq k \\frac{\\alpha}{n}$$\n",
    "We then declare a discovery for all p-values with value less than or equal to this $k^{th}$ p-value. "
   ]
  },
  {
   "cell_type": "code",
   "execution_count": null,
   "metadata": {},
   "outputs": [],
   "source": [
    " def benjamini_hochberg(p_values, alpha):\n",
    "    \"\"\"\n",
    "    Returns decisions on p-values using Benjamini-Hochberg.\n",
    "    \n",
    "    Inputs:\n",
    "        p_values: array of p-values\n",
    "        alpha: desired FDR (FDR = E[# false positives / # positives])\n",
    "    \n",
    "    Returns:\n",
    "        decisions: binary array of same length as p-values, where `decisions[i]` is 1\n",
    "        if `p_values[i]` is deemed significant, and 0 otherwise\n",
    "    \"\"\"\n",
    "    decisions = # TODO: fill in\n",
    "    \n",
    "    return decisions\n",
    "    "
   ]
  },
  {
   "cell_type": "markdown",
   "metadata": {},
   "source": [
    "Now, asses the result of applying the Benjamini Hochberg procedure to the simulated data."
   ]
  },
  {
   "cell_type": "code",
   "execution_count": null,
   "metadata": {},
   "outputs": [],
   "source": [
    "# Once you've filled in `benjamini_hochberg`, run this cell to print the results.\n",
    "bh_decisions = benjamini_hochberg(p_values, alpha)\n",
    "\n",
    "bh_results = report_results(bh_decisions,true_values)\n",
    "print()\n",
    "\n",
    "print_false_discovery_fraction(bh_results)\n"
   ]
  },
  {
   "cell_type": "markdown",
   "metadata": {},
   "source": [
    "## 2e) Conclusions\n",
    "Finally, write a short (<= 4 sentences) summary comparing the three different methods from this problem."
   ]
  },
  {
   "cell_type": "markdown",
   "metadata": {},
   "source": [
    "TODO: fill in your comparison."
   ]
  },
  {
   "cell_type": "markdown",
   "metadata": {},
   "source": [
    "## Final tests\n",
    "If all the tests below pass you can assume you have successfuly completed the testable parts of the lab. Don't worry about understanding the code below; just make sure no asserts fail."
   ]
  },
  {
   "cell_type": "code",
   "execution_count": null,
   "metadata": {},
   "outputs": [],
   "source": [
    "import hashlib\n",
    "import sys\n",
    "\n",
    "def assert_discoveries(results,\n",
    "                       true_vales,\n",
    "                       true_positives_hash,\n",
    "                       false_positives_hash,\n",
    "                       true_negatives_hash,\n",
    "                       false_negatives_hash,\n",
    "                       false_discovery_frac_hash):\n",
    "    def get_hash(num):\n",
    "        return hashlib.md5(str(num).encode()).hexdigest()\n",
    "    res_dict = report_results(results, true_values)\n",
    "    \n",
    "    \n",
    "    assert(get_hash(res_dict['TP_count']) == true_positives_hash)\n",
    "    assert(get_hash(res_dict['FP_count']) == false_positives_hash)\n",
    "    assert(get_hash(res_dict['TN_count']) == true_negatives_hash)\n",
    "    assert(get_hash(res_dict['FN_count']) == false_negatives_hash)\n",
    "    _, false_discovery_frac = print_false_discovery_fraction(res_dict)\n",
    "    print(false_discovery_frac)\n",
    "    print(get_hash(false_discovery_frac))\n",
    "    assert(get_hash(false_discovery_frac) == false_discovery_frac_hash)\n",
    "    print()\n",
    "    \n",
    "\n",
    "assert_discoveries(naive_decisions,\n",
    "                   true_values,\n",
    "                   true_positives_hash=\"9b8619251a19057cff70779273e95aa6\",\n",
    "                   false_positives_hash=\"a1d0c6e83f027327d8461063f4ac58a6\",\n",
    "                   true_negatives_hash=\"ccb0989662211f61edae2e26d58ea92f\",\n",
    "                    false_negatives_hash=\"d2ddea18f00665ce8623e36bd4e3c7c5\",\n",
    "                   false_discovery_frac_hash=\"925c6c13fdd65415e416ddf203c36673\")\n",
    "assert_discoveries(bonferroni_decisions,\n",
    "                   true_values,\n",
    "                   true_positives_hash=\"1679091c5a880faf6fb5e6087eb1b2dc\",\n",
    "                   false_positives_hash=\"cfcd208495d565ef66e7dff9f98764da\",\n",
    "                   true_negatives_hash=\"beb22fb694d513edcf5533cf006dfeae\",\n",
    "                   false_negatives_hash=\"85d8ce590ad8981ca2c8286f79f59954\",\n",
    "                   false_discovery_frac_hash=\"30565a8911a6bb487e3745c0ea3c8224\")\n",
    "assert_discoveries(bh_decisions,\n",
    "                   true_values,\n",
    "                   true_positives_hash=\"f457c545a9ded88f18ecee47145a72c0\",\n",
    "                   false_positives_hash=\"c4ca4238a0b923820dcc509a6f75849b\",\n",
    "                   true_negatives_hash=\"35cf8659cfcb13224cbd47863a34fc58\",\n",
    "                   false_negatives_hash=\"1d7f7abc18fcb43975065399b0d1e48e\",\n",
    "                   false_discovery_frac_hash=\"0d16a6cb2ca34d65da949608a7bc01d1\")\n",
    "    \n",
    "print(\"All tests passed! You are awesome!\")"
   ]
  }
 ],
 "metadata": {
  "kernelspec": {
   "display_name": "Python 3",
   "language": "python",
   "name": "python3"
  },
  "language_info": {
   "codemirror_mode": {
    "name": "ipython",
    "version": 3
   },
   "file_extension": ".py",
   "mimetype": "text/x-python",
   "name": "python",
   "nbconvert_exporter": "python",
   "pygments_lexer": "ipython3",
   "version": "3.6.8"
  }
 },
 "nbformat": 4,
 "nbformat_minor": 2
}

{
 "cells": [
  {
   "cell_type": "markdown",
   "metadata": {},
   "source": [
    "# Lab 6: Introduction to Causality and Causal Models\n",
    "Welcome to the sixth DS102 lab! \n",
    "\n",
    "The goals of this lab is to get a hands-on introduction to causality. This lab is based on the chapter on Causality from the [Fairness and machine learning book](https://fairmlbook.org/pdf/causal.pdf). The lab is adapted from the subsection *A first example* under the section on *Causal models*. \n",
    "\n",
    "The code you need to write is commented out with a message \"TODO: fill in\". There is additional documentation for each part as you go along.\n",
    "\n",
    "\n",
    "## Course Policies\n",
    "\n",
    "**Collaboration Policy**\n",
    "\n",
    "Data science is a collaborative activity. While you may talk with others about the labs, we ask that you **write your solutions individually**. If you do discuss the assignments with others please **include their names** in the cell below.\n",
    "\n",
    "**Submission**: to submit this assignment, rerun the notebook from scratch (by selecting Kernel > Restart & Run all), and then print as a pdf (File > download as > pdf) and submit it to Gradescope.\n",
    "\n",
    "\n",
    "**This assignment should be completed and submitted before Thursday March 5, 2020 at 11:59 PM.** "
   ]
  },
  {
   "cell_type": "markdown",
   "metadata": {},
   "source": [
    "Write collaborator names here."
   ]
  },
  {
   "cell_type": "code",
   "execution_count": 11,
   "metadata": {},
   "outputs": [],
   "source": [
    "import matplotlib.pyplot as plt\n",
    "import numpy as np\n",
    "from scipy.stats import bernoulli\n",
    "%matplotlib inline"
   ]
  },
  {
   "cell_type": "markdown",
   "metadata": {},
   "source": [
    "# 1) Simulate data from a toy example (heart disease)\n",
    "We will be using a toy example not intended to capture the real world.\n",
    "Imagine a hypothetical population in which an individual exercises\n",
    "regularly with probability 1/2. With probability 1/3, the individual\n",
    "has a latent disposition to develop overweight that manifests in the\n",
    "absence of regular exercise. Similarly, in the absence of exercise,\n",
    "heart disease occurs with probability 1/3. \n",
    "\n",
    "Denote by $X$ the indicator\n",
    "variable of regular exercise, by $W$ that of excessive weight, and by $H$\n",
    "the indicator of heart disease. Below is a structural causal model to\n",
    "generate samples from this hypothetical population."
   ]
  },
  {
   "cell_type": "markdown",
   "metadata": {},
   "source": [
    "Let $U_1, U_2, U_3$ be independent Bernoulli\n",
    "random variables, i.e., biased coin \n",
    "flips: $U_1 \\sim Bernoulli(1/2)$, $U_2 \\sim Bernoulli(1/3)$, $U_3 \\sim Bernoulli(1/3)$.\n",
    "\n",
    "A Bernoulli random variable $Bernoulli(p)$\n",
    "with bias parameter $p$ is a biased coin toss that\n",
    "takes value 1 with probability $p$ and\n",
    "value 0 with probability $1 − p$.\n",
    "\n",
    "We will now define $X$, $W$, and $Z$ as functions of $U_1, U_2, U_3$:\n",
    "\n",
    "1. $X = U_1$\n",
    "2. $W = \\begin{cases} 0 & \\text{if } X = 1 \\\\ U_2 &\\text{otherwise} \\end{cases}$\n",
    "3. $H = \\begin{cases} 0 & \\text{if } X = 1 \\\\ U_3 &\\text{otherwise} \\end{cases}$ "
   ]
  },
  {
   "cell_type": "markdown",
   "metadata": {},
   "source": [
    "## 1a) Question: Does being overweight cause heart disease in our model? \n",
    "\n",
    "TODO: fill in your answer.\n"
   ]
  },
  {
   "cell_type": "markdown",
   "metadata": {},
   "source": [
    "## 1b) Calculate $X, W, H$ from the samples of $U_1, U_2, U_3$.\n",
    "\n",
    "Given $n$ independent samples of $U_1, U_2, U_3$, we will now calculate $X, W, H$ from those samples. \n",
    "\n",
    "First, we will generate $n$ independent samples of $U_1, U_2,$ and $U_3$."
   ]
  },
  {
   "cell_type": "code",
   "execution_count": 12,
   "metadata": {},
   "outputs": [],
   "source": [
    "# Generate n independent samples of U1, U2, and U3.\n",
    "n = 1000\n",
    "U1 = bernoulli.rvs(1/2, size=n)\n",
    "U2 = bernoulli.rvs(1/3, size=n)\n",
    "U3 = bernoulli.rvs(1/3, size=n)"
   ]
  },
  {
   "cell_type": "markdown",
   "metadata": {},
   "source": [
    "Using the $n$ samples of $U_1, U_2, U_3$ generated above, we will now calculate $n$ independent samples of $X, W$ and $H$. \n",
    "\n",
    "Let $X = [X_1,...,X_n]$, $W = [W_1,...,W_n]$, and $H = [H_1,...,H_n]$. \n",
    "\n",
    "Each value $X_i$ represents whether or not the $i$th individual exercises. Each value of $W_i$ represents whether or not that same individual is overweight. Each value of $H_i$ represents whether or not the individual has heart disease."
   ]
  },
  {
   "cell_type": "code",
   "execution_count": null,
   "metadata": {},
   "outputs": [],
   "source": [
    "# No TODOs here, just run this cell and understand what's happening.\n",
    "def calculate_X(U1_input):\n",
    "    \"\"\"Calculates X given U1.\n",
    "    \n",
    "    Args: \n",
    "      U1_input, a numpy array of length n.\n",
    "      \n",
    "    Returns:\n",
    "      X, a numpy array of length n.\n",
    "    \"\"\"\n",
    "    return np.copy(U1_input)\n",
    "\n",
    "X = calculate_X(U1)\n",
    "\n",
    "print(\"Number of individuals who exercise: %d out of %d\" % (np.sum(X), n))"
   ]
  },
  {
   "cell_type": "code",
   "execution_count": null,
   "metadata": {},
   "outputs": [],
   "source": [
    "# TODO: calculate W from X and U2.\n",
    "def calculate_W(X_input, U2_input):\n",
    "    \"\"\"Calculates W given X, U2.\n",
    "    \n",
    "    Args:\n",
    "      X_input, a numpy array of length n.\n",
    "      U2_input, a numpy array of length n.\n",
    "      \n",
    "    Returns:\n",
    "      W, a numpy array of length n.\n",
    "    \"\"\"\n",
    "    # TODO: calculate W based on X_input and U2_input.\n",
    "    return W\n",
    "\n",
    "W = calculate_W(X, U2)\n",
    "\n",
    "print(\"Number of individuals who are overweight: %d out of %d\" % (np.sum(W), n))"
   ]
  },
  {
   "cell_type": "code",
   "execution_count": null,
   "metadata": {},
   "outputs": [],
   "source": [
    "# TODO: calculate H from X and U3.\n",
    "def calculate_H(X_input, U3_input):\n",
    "    \"\"\"Calculates H given X, U3.\n",
    "    \n",
    "    Args:\n",
    "      X_input, a numpy array of length n.\n",
    "      U3_input, a numpy array of length n.\n",
    "      \n",
    "    Returns:\n",
    "      H, a numpy array of length n.\n",
    "    \"\"\"\n",
    "    # TODO: calculate H based on X_input and U3_input.\n",
    "    return H\n",
    "\n",
    "H = calculate_H(X, U3)\n",
    "\n",
    "print(\"Number of individuals with heart disease: %d out of %d\" % (np.sum(H), n))"
   ]
  },
  {
   "cell_type": "markdown",
   "metadata": {},
   "source": [
    "## 1c) Calculate the baseline probability that an individual has heart disease.\n",
    "While we know that being overweight does not cause heart disease in our model (since $H$ does not depend on $W$), we will now observe how the data reflects that relationship. \n",
    "\n",
    "First, we will calculate the baseline probability that an individual has heart disease, $P(H=1)$. \n",
    "To empirically calculate this probability for $n$ samples, we have \n",
    "$$P(H = 1) \\approx \\frac{1}{n}\\sum_{i=1}^n \\mathbf{1}(H_i = 1)$$\n",
    "where $\\mathbf{1}(W_i = 1)$ is an indicator function that takes value 1 if $H_i = 1$ and 0 otherwise.\n"
   ]
  },
  {
   "cell_type": "code",
   "execution_count": null,
   "metadata": {},
   "outputs": [],
   "source": [
    "# TODO: calculate the probability P(H=1).\n",
    "def prob_H(H_input):\n",
    "    \"\"\"Calculates the baseline probability of heart disease, P(H = 1)\n",
    "    \n",
    "    Args:\n",
    "      H_input, a numpy array of length n.\n",
    "    \n",
    "    Returns:\n",
    "      a float probability between 0 and 1.\n",
    "    \"\"\"\n",
    "    prob = # TODO: calculate the probability P(H=1) using H_input.\n",
    "    return prob\n",
    "\n",
    "prob = prob_H(H)\n",
    "\n",
    "print(\"Probability that an individual has heart disease: %f\" % (prob))"
   ]
  },
  {
   "cell_type": "markdown",
   "metadata": {},
   "source": [
    "## 1d) Calculate the conditional probability that an individual has heart disease given that they are overweight.\n",
    "\n",
    "The conditional probability that an individual has heart disease given that they are overweight is equal to\n",
    "$$P(H = 1 | W = 1) = \\frac{P(H = 1, W = 1)}{P(W = 1)}.$$\n",
    "\n",
    "To empirically calculate this conditional probability for $n$ samples, we have \n",
    "$$P(W = 1) \\approx \\frac{1}{n}\\sum_{i=1}^n \\mathbf{1}(W_i = 1)$$\n",
    "and\n",
    "$$P(H = 1, W = 1) \\approx \\frac{1}{n}\\sum_{i=1}^n \\mathbf{1}(H_i = 1, W_i = 1),$$\n",
    "\n",
    "Combining these with the formula for the conditional probability,\n",
    "$$P(H = 1 | W = 1) = \\frac{P(H = 1, W = 1)}{P(W = 1)} \\approx \\frac{\\sum_{i=1}^n \\mathbf{1}(H_i = 1, W_i = 1)}{\\sum_{i=1}^n \\mathbf{1}(W_i = 1)}.$$\n",
    "\n",
    "Next, we will empirically calculate $P(H = 1 | W = 1)$ for the $n$ samples that we drew."
   ]
  },
  {
   "cell_type": "code",
   "execution_count": null,
   "metadata": {},
   "outputs": [],
   "source": [
    "# TODO: calculate the conditional probability P(H = 1 | W = 1) from n samples.\n",
    "def probability_H_given_W(H_input, W_input):\n",
    "    \"\"\"Calculates P(H = 1 | W = 1) from n samples.\n",
    "    \n",
    "    Args:\n",
    "      H_input, a numpy array of length n.\n",
    "      W_input, a numpy array of length n.\n",
    "      \n",
    "    Returns:\n",
    "      a float probability between 0 and 1.\n",
    "    \"\"\"\n",
    "    prob_H_given_W = # TODO: calculate P(H = 1 | W = 1) using H_input and W_input.\n",
    "    return prob_H_given_W\n",
    "\n",
    "prob = probability_H_given_W(H, W)\n",
    "print(\"Probability that an individual has heart disease given that they are overweight: %f\" % (prob))"
   ]
  },
  {
   "cell_type": "markdown",
   "metadata": {},
   "source": [
    "## 1e) Question: Which was greater, the baseline probability of heart disease P(H=1), or the conditional probability of heart disease given overweight, P(H=1|W=1)? Can you explain why one of them was greater? \n",
    "\n",
    "TODO: fill in your answer."
   ]
  },
  {
   "cell_type": "markdown",
   "metadata": {},
   "source": [
    "# 2) Comparison to a hypothetical substitution (*do-operator*)\n",
    "\n",
    "In 1), we observed that even though being overweight does not heart disease in our model, we can still observe that the probability of getting heart disease $H$ conditioned on whether or not one is overweight $W$ is greater than the baseline probability of getting heart disease. If conditional probability is not a good indicator of whether or not being overweight causes heart disease in our model, what else can we do to check whether or not being overweight causes heart disease?\n",
    "\n",
    "Instead, we could set W = 1, resulting in a new distribution. The active substitution $W = 1$ creates a new hypothetical population in which all individuals are overweight with all that it entails in our model. If this were real life, what we would be doing here is making *all* of the individuals in our study overweight, and observing whether or not they develop heart disease. This substitution of $W=1$ is sometimes called the *do-operator*.\n",
    "\n",
    "Specifically, this time, we will generate the data using the following model:\n",
    "\n",
    "1. $X = U_1$\n",
    "2. $W = 1$\n",
    "3. $H = \\begin{cases} 0 & \\text{if } X = 1 \\\\ U_3 &\\text{otherwise} \\end{cases}$ \n",
    "\n",
    "This model has the exact same functions as 1) for $X$ and $H$, but now it has $W = 1$ instead of the previous function for $W$."
   ]
  },
  {
   "cell_type": "markdown",
   "metadata": {},
   "source": [
    "## 2a) Calculate the new $X,W,H$ samples."
   ]
  },
  {
   "cell_type": "code",
   "execution_count": null,
   "metadata": {},
   "outputs": [],
   "source": [
    "# TODO: calculate W, a vector of all 1s.\n",
    "def calculate_W_all_ones():\n",
    "    \"\"\"Calculates W, where W is a vector of all 1s.\n",
    "      \n",
    "    Returns:\n",
    "      W, a numpy array of length n where all entries are 1.\n",
    "    \"\"\"\n",
    "    return # TODO: calculate the hypothetical W, a numpy array of length n where all entries are 1.\n",
    "\n",
    "W_do = calculate_W_all_ones()\n",
    "\n",
    "print(\"Number of individuals who are overweight: %d out of %d\" % (np.sum(W_do), n))"
   ]
  },
  {
   "cell_type": "code",
   "execution_count": null,
   "metadata": {},
   "outputs": [],
   "source": [
    "# Calculate X and H using the same functions from 1).\n",
    "# No TODOs here, we're reusing the same functions for X and H from 1).\n",
    "X_do = calculate_X(U1)\n",
    "print(\"Number of individuals who exercise: %d out of %d\" % (np.sum(X_do), n))\n",
    "\n",
    "H_do = calculate_H(X_do, U3)\n",
    "print(\"Number of individuals with heart disease: %d out of %d\" % (np.sum(H_do), n))"
   ]
  },
  {
   "cell_type": "markdown",
   "metadata": {},
   "source": [
    "## 2b) Calculate the probability that an individual has heart disease with the hypothetical substitution W = 1."
   ]
  },
  {
   "cell_type": "code",
   "execution_count": null,
   "metadata": {},
   "outputs": [],
   "source": [
    "# No TODOs here, we will reuse the same prob_H function that we wrote in 1).\n",
    "prob = prob_H(H_do)\n",
    "\n",
    "print(\"Probability that an individual has heart disease: %f\" % (prob))"
   ]
  },
  {
   "cell_type": "markdown",
   "metadata": {},
   "source": [
    "### Question: Is probability that an individual has heart disease under the active substitution W=1 (from 2b) the same as the probability that an individual has heart disease conditioned on W=1 (from 1d)? Why might they be different?\n",
    "\n",
    "TODO: fill in your answer."
   ]
  },
  {
   "cell_type": "markdown",
   "metadata": {},
   "source": [
    "# 3) Another hypothetical distribution where exercise habits are driven by body weight. \n",
    "In the distributions from 1) and 2), heart disease $H$ was not directly caused by weight $W$. This time, we will observe a different hypothetical model where overweight individuals choose to exercise with some probability, but that’s the only reason anyone would exercise. Heart disease develops in the absence of exercise.\n",
    "\n",
    "We will now define $X$, $W$, and $Z$ as functions of $U_1, U_2, U_3$ for this new model:\n",
    "\n",
    "1. $W = U_2$\n",
    "2. $X = \\begin{cases} 0 & \\text{if } W = 0 \\\\ U_1 &\\text{otherwise} \\end{cases}$\n",
    "3. $H = \\begin{cases} 0 & \\text{if } X = 1 \\\\ U_3 &\\text{otherwise} \\end{cases}$ "
   ]
  },
  {
   "cell_type": "markdown",
   "metadata": {},
   "source": [
    "## 3a) Question: Is there a causal relationship between heart disease and weight in this model? \n",
    "\n",
    "TODO: fill in your answer."
   ]
  },
  {
   "cell_type": "markdown",
   "metadata": {},
   "source": [
    "## 3b) Calculate $X, W, H$ in this new model."
   ]
  },
  {
   "cell_type": "code",
   "execution_count": 7,
   "metadata": {},
   "outputs": [],
   "source": [
    "# Generate n independent samples of U1, U2, and U3.\n",
    "n = 1000\n",
    "U1 = bernoulli.rvs(1/2, size=n)\n",
    "U2 = bernoulli.rvs(1/3, size=n)\n",
    "U3 = bernoulli.rvs(1/3, size=n)"
   ]
  },
  {
   "cell_type": "code",
   "execution_count": null,
   "metadata": {},
   "outputs": [],
   "source": [
    "# No TODOs here, calculate the new W.\n",
    "def calculate_W_new(U2_input):\n",
    "    \"\"\"Calculates W given U2 for the new model.\n",
    "    \n",
    "    Args:\n",
    "      U2_input, a numpy array of length n.\n",
    "      \n",
    "    Returns:\n",
    "      W, a numpy array of length n.\n",
    "    \"\"\"\n",
    "    return np.copy(U2_input)\n",
    "\n",
    "W_new = calculate_W_new(U2)\n",
    "\n",
    "print(\"Number of individuals who are overweight: %d out of %d\" % (np.sum(W_new), n))"
   ]
  },
  {
   "cell_type": "code",
   "execution_count": null,
   "metadata": {},
   "outputs": [],
   "source": [
    "# TODO: calculate the new X based on W and U1.\n",
    "def calculate_X_new(W_input, U1_input):\n",
    "    \"\"\"Calculates X given W, U1 for the new model.\n",
    "    \n",
    "    Args: \n",
    "      W_input, a numpy array of length n.\n",
    "      U1_input, a numpy array of length n.\n",
    "      \n",
    "    Returns:\n",
    "      X, a numpy array of length n.\n",
    "    \"\"\"\n",
    "    # TODO: calculate X based on W_input and U1_input.\n",
    "    return X\n",
    "\n",
    "X_new = calculate_X_new(W_new, U1)\n",
    "\n",
    "print(\"Number of individuals who exercise: %d out of %d\" % (np.sum(X_new), n))"
   ]
  },
  {
   "cell_type": "code",
   "execution_count": null,
   "metadata": {},
   "outputs": [],
   "source": [
    "# No TODOs here, we can reuse the function from 1) for H.\n",
    "H_new = calculate_H(X_new, U3)\n",
    "print(\"Number of individuals with heart disease: %d out of %d\" % (np.sum(H_new), n))"
   ]
  },
  {
   "cell_type": "markdown",
   "metadata": {},
   "source": [
    "## Calculate the baseline probability that an individual has heart disease.\n",
    "We will now calculate the baseline probability that an individual has heart disease in this new model, $P(H=1)$. "
   ]
  },
  {
   "cell_type": "code",
   "execution_count": null,
   "metadata": {},
   "outputs": [],
   "source": [
    "# No TODOs here, we just reuse the function we implemented in 1).\n",
    "prob = prob_H(H_new)\n",
    "\n",
    "print(\"Probability that an individual has heart disease: %f\" % (prob))"
   ]
  },
  {
   "cell_type": "markdown",
   "metadata": {},
   "source": [
    "## Calculate the conditional probability that an individual has heart disease given that they are overweight.\n",
    "\n",
    "As done in 1), we will now empirically calculate $P(H = 1 | W = 1)$ for the $n$ samples that we drew for the new model."
   ]
  },
  {
   "cell_type": "code",
   "execution_count": null,
   "metadata": {},
   "outputs": [],
   "source": [
    "# No TODOs here, just reuse the function we implemented in 1).\n",
    "prob = probability_H_given_W(H_new, W_new)\n",
    "print(\"Probability that an individual has heart disease given that they are overweight: %f\" % (prob))"
   ]
  },
  {
   "cell_type": "markdown",
   "metadata": {},
   "source": [
    "## 3c) Comparison to a hypothethical substitution (*do-operator*) for this new model\n",
    "\n",
    "As we did for the model in 1, we will no observe what happens to $H$ when we set W = 1, resulting in a new hypothetical population in which all individuals are overweight with all that it entails in our model. \n",
    "\n",
    "Specifically, this time, we will generate the data using the following model:\n",
    "\n",
    "1. $W = 1$\n",
    "2. $X = \\begin{cases} 0 & \\text{if } W = 0 \\\\ U_1 &\\text{otherwise} \\end{cases}$\n",
    "3. $H = \\begin{cases} 0 & \\text{if } X = 1 \\\\ U_3 &\\text{otherwise} \\end{cases}$ \n",
    "\n",
    "This model has the exact same functions as for $X$ and $H$, but now it has $W = 1$ instead of the previous function for $W$."
   ]
  },
  {
   "cell_type": "code",
   "execution_count": null,
   "metadata": {},
   "outputs": [],
   "source": [
    "# No TODOs here, just reuse the function from part 1).\n",
    "W_do = calculate_W_all_ones()\n",
    "\n",
    "print(\"Number of individuals who are overweight: %d out of %d\" % (np.sum(W_do), n))"
   ]
  },
  {
   "cell_type": "code",
   "execution_count": null,
   "metadata": {},
   "outputs": [],
   "source": [
    "# No TODOs here, use the same X and H from part b).\n",
    "X_do = calculate_X_new(W_do, U1)\n",
    "print(\"Number of individuals who exercise: %d out of %d\" % (np.sum(X_do), n))\n",
    "\n",
    "H_do = calculate_H(X_do, U3)\n",
    "print(\"Number of individuals with heart disease: %d out of %d\" % (np.sum(H_do), n))"
   ]
  },
  {
   "cell_type": "markdown",
   "metadata": {},
   "source": [
    "### Calculate the probability that an individual has heart disease with the hypothetical substitution W = 1."
   ]
  },
  {
   "cell_type": "code",
   "execution_count": null,
   "metadata": {},
   "outputs": [],
   "source": [
    "# No TODOs here, we will reuse the same prob_H function that we wrote in 1).\n",
    "prob = prob_H(H_do)\n",
    "\n",
    "print(\"Probability that an individual has heart disease: %f\" % (prob))"
   ]
  },
  {
   "cell_type": "markdown",
   "metadata": {},
   "source": [
    "### Question: Compared to your answer to 2b), is the probability that an individual has heart disease under the active substitution W=1 (from 3c) closer to probability that an individual has heart disease conditioned on W=1 (from 3b)? \n",
    "\n",
    "TODO: fill in your answer."
   ]
  },
  {
   "cell_type": "markdown",
   "metadata": {},
   "source": [
    "## Summary\n",
    "\n",
    "The active hypothethical substitution of $W=1$ for the new model in 3) leads to an increased probability of exercise, hence lowering the probability of heart disease. In this case, the conditioning on $W=1$ has the same affect. Both lead to a probability of about 1/6. \n",
    "\n",
    "What we see is that fixing a variable by substitution may or may not correspond to a conditional probability. This is a formal rendering of our earlier point that observation isn’t action. A substitution corresponds to an action we perform. By substituting a value we break the natural course of action our model captures. This is the reason why the substitution operation is sometimes called the do-operator, written as $\\mathrm{do}(W:=1)$.\n",
    "\n",
    "For more information on this example and for next steps in the studying causality, see the chapter on Causality from the [Fairness and machine learning book](https://fairmlbook.org/pdf/causal.pdf)."
   ]
  }
 ],
 "metadata": {
  "kernelspec": {
   "display_name": "py36",
   "language": "python",
   "name": "py36"
  },
  "language_info": {
   "codemirror_mode": {
    "name": "ipython",
    "version": 3
   },
   "file_extension": ".py",
   "mimetype": "text/x-python",
   "name": "python",
   "nbconvert_exporter": "python",
   "pygments_lexer": "ipython3",
   "version": "3.6.1"
  }
 },
 "nbformat": 4,
 "nbformat_minor": 2
}
